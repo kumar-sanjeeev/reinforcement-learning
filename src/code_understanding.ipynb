{
 "cells": [
  {
   "cell_type": "code",
   "execution_count": 1,
   "id": "745720f9",
   "metadata": {},
   "outputs": [
    {
     "name": "stdout",
     "output_type": "stream",
     "text": [
      "<class 'str'>\n",
      "no of rows: 2\n",
      "no of colms: 3\n"
     ]
    }
   ],
   "source": [
    "l = [['#','',''],\n",
    "     ['','', 100]]\n",
    "print(type(l[0][0]))   \n",
    "\n",
    "# no of rows in grid == len of list\n",
    "print(\"no of rows:\", len(l))\n",
    "\n",
    "# no of columns in grid == check the length of any row (assumption: grid is having same no of columns)\n",
    "print(\"no of colms:\",len(l[0]))"
   ]
  },
  {
   "cell_type": "code",
   "execution_count": 2,
   "id": "8f682cf7",
   "metadata": {},
   "outputs": [
    {
     "name": "stdout",
     "output_type": "stream",
     "text": [
      "(0, 0)\n",
      "(0, 1)\n",
      "(0, 2)\n"
     ]
    }
   ],
   "source": [
    "l1 = [(0,0),(0,1),(0,2)]\n",
    "# print(len(l1))\n",
    "# print(l1[1][0])\n",
    "# print(l1[1][1])\n",
    "# for i in range(len(l1)):\n",
    "#     print(l1[i])\n",
    "\n",
    "for s in l1:\n",
    "    print(s)"
   ]
  },
  {
   "cell_type": "code",
   "execution_count": 6,
   "id": "e0dbb14c",
   "metadata": {},
   "outputs": [
    {
     "name": "stdout",
     "output_type": "stream",
     "text": [
      "{(0, 0): 0, (0, 1): 0, (0, 2): 0}\n"
     ]
    }
   ],
   "source": [
    "dict = {}\n",
    "l1 = [(0,0),(0,1),(0,2),(0,0)]\n",
    "\n",
    "for s in l1:\n",
    "    dict.update({s:0})\n",
    "print(dict)"
   ]
  },
  {
   "cell_type": "code",
   "execution_count": 8,
   "id": "330dcc34",
   "metadata": {},
   "outputs": [
    {
     "data": {
      "text/plain": [
       "['a', 'b', 'c']"
      ]
     },
     "execution_count": 8,
     "metadata": {},
     "output_type": "execute_result"
    }
   ],
   "source": [
    "d = {s:['a','b','c']}\n",
    "\n",
    "action = d[s]\n",
    "action"
   ]
  },
  {
   "cell_type": "code",
   "execution_count": 10,
   "id": "e3044106",
   "metadata": {},
   "outputs": [
    {
     "data": {
      "text/plain": [
       "[[1, 2, 3, 4]]"
      ]
     },
     "execution_count": 10,
     "metadata": {},
     "output_type": "execute_result"
    }
   ],
   "source": [
    "e=[]\n",
    "f=[1,2,3,4]\n",
    "e.append(f)\n",
    "e"
   ]
  },
  {
   "cell_type": "code",
   "execution_count": 11,
   "id": "6965331c",
   "metadata": {},
   "outputs": [
    {
     "name": "stdout",
     "output_type": "stream",
     "text": [
      "[1, 2, 3, 4]\n"
     ]
    }
   ],
   "source": [
    "for i in range(len(e)):\n",
    "    print(e[i])"
   ]
  },
  {
   "cell_type": "code",
   "execution_count": 12,
   "id": "f84d41f0",
   "metadata": {},
   "outputs": [
    {
     "data": {
      "text/plain": [
       "list"
      ]
     },
     "execution_count": 12,
     "metadata": {},
     "output_type": "execute_result"
    }
   ],
   "source": [
    "type(e)"
   ]
  },
  {
   "cell_type": "code",
   "execution_count": 14,
   "id": "4415d0e6",
   "metadata": {},
   "outputs": [
    {
     "name": "stdout",
     "output_type": "stream",
     "text": [
      "(1, 2)\n",
      "4\n",
      "(3, 4)\n",
      "5\n"
     ]
    }
   ],
   "source": [
    "l = [((1,2),4), ((3,4),5)]\n",
    "\n",
    "for state, prob in l:\n",
    "    print(state)\n",
    "    print(prob)"
   ]
  },
  {
   "cell_type": "code",
   "execution_count": 5,
   "id": "805db8b4",
   "metadata": {},
   "outputs": [
    {
     "data": {
      "text/plain": [
       "'a'"
      ]
     },
     "execution_count": 5,
     "metadata": {},
     "output_type": "execute_result"
    }
   ],
   "source": [
    "# For Q learning experiment\n",
    "\n",
    "import numpy as np\n",
    "l = [1,2,3,4,5,6]\n",
    "l1 = ['a','b','c']\n",
    "\n",
    "np.random.choice(l1)"
   ]
  },
  {
   "cell_type": "code",
   "execution_count": 3,
   "id": "df379109",
   "metadata": {},
   "outputs": [
    {
     "name": "stdout",
     "output_type": "stream",
     "text": [
      "(0, 1)\n",
      "2.0\n"
     ]
    }
   ],
   "source": [
    "d = {(0,1):2,(2.0):3}\n",
    "\n",
    "for key in d.keys():\n",
    "    print(key)"
   ]
  },
  {
   "cell_type": "code",
   "execution_count": 24,
   "id": "aea13253",
   "metadata": {},
   "outputs": [
    {
     "name": "stdout",
     "output_type": "stream",
     "text": [
      "dict_values([1, 2])\n",
      "2\n",
      "dict_keys([(0, 1), (1, 1)])\n"
     ]
    }
   ],
   "source": [
    "d ={(0,1):{'a1':1,'a2':2}, (1,1):{'a':2,'b':4}}\n",
    "print(d[(0,1)].values())\n",
    "print(max(d[(0,1)].values()))\n",
    "\n",
    "print(d.keys())"
   ]
  },
  {
   "cell_type": "code",
   "execution_count": null,
   "id": "32c926ae",
   "metadata": {},
   "outputs": [],
   "source": []
  },
  {
   "cell_type": "code",
   "execution_count": 27,
   "id": "2ee389b3",
   "metadata": {},
   "outputs": [
    {
     "name": "stdout",
     "output_type": "stream",
     "text": [
      "present\n"
     ]
    }
   ],
   "source": [
    "if (0,1) not in d.keys():\n",
    "    print(\"Not present\")\n",
    "else:\n",
    "    print(\"present\")"
   ]
  },
  {
   "cell_type": "code",
   "execution_count": 28,
   "id": "8b11325a",
   "metadata": {},
   "outputs": [
    {
     "name": "stdout",
     "output_type": "stream",
     "text": [
      "3\n"
     ]
    }
   ],
   "source": [
    "print(sum(d[(0,1)].values()))"
   ]
  },
  {
   "cell_type": "code",
   "execution_count": 29,
   "id": "40c10e7c",
   "metadata": {},
   "outputs": [
    {
     "data": {
      "text/plain": [
       "1"
      ]
     },
     "execution_count": 29,
     "metadata": {},
     "output_type": "execute_result"
    }
   ],
   "source": [
    "d[(0,1)]['a1']"
   ]
  },
  {
   "cell_type": "code",
   "execution_count": 6,
   "id": "eb79cffe",
   "metadata": {},
   "outputs": [
    {
     "data": {
      "text/plain": [
       "'b'"
      ]
     },
     "execution_count": 6,
     "metadata": {},
     "output_type": "execute_result"
    }
   ],
   "source": [
    "# how to get the max value key in the dict\n",
    "stats = {'a': 1, 'b': 3000, 'c': 0}\n",
    "\n",
    "max(stats, key=stats.get)"
   ]
  },
  {
   "cell_type": "code",
   "execution_count": null,
   "id": "761449dc",
   "metadata": {},
   "outputs": [],
   "source": []
  },
  {
   "cell_type": "code",
   "execution_count": 32,
   "id": "e79a1b8e",
   "metadata": {},
   "outputs": [
    {
     "data": {
      "text/plain": [
       "{(0, 1): {'a1': 1, 'a2': 2, 'a4': 10}, (1, 1): {'a': 2, 'b': 4}}"
      ]
     },
     "execution_count": 32,
     "metadata": {},
     "output_type": "execute_result"
    }
   ],
   "source": [
    "d ={(0,1):{'a1':1,'a2':2}, (1,1):{'a':2,'b':4}}\n",
    "d[(0,1)].update({'a4':10})\n",
    "d"
   ]
  },
  {
   "cell_type": "code",
   "execution_count": 1,
   "id": "1e5528fe",
   "metadata": {},
   "outputs": [
    {
     "data": {
      "text/plain": [
       "{'z': {'a1': 1, 'a2': 2, 'a6': 10}, 'y': {'a': 2, 'b': 4}}"
      ]
     },
     "execution_count": 1,
     "metadata": {},
     "output_type": "execute_result"
    }
   ],
   "source": [
    "d ={\"z\":{'a1':1,'a2':2}, \"y\":{'a':2,'b':4}}\n",
    "d[\"z\"].update({'a6':10})\n",
    "d"
   ]
  },
  {
   "cell_type": "code",
   "execution_count": 8,
   "id": "be41c8e4",
   "metadata": {},
   "outputs": [
    {
     "data": {
      "text/plain": [
       "'q'"
      ]
     },
     "execution_count": 8,
     "metadata": {},
     "output_type": "execute_result"
    }
   ],
   "source": [
    "d ={\"z\":{'a1':1,'a2':2, 'q':2000000}, \"y\":{'a':2,'b':4}}\n",
    "action = d[\"z\"]\n",
    "max(action,key=action.get)"
   ]
  },
  {
   "cell_type": "code",
   "execution_count": 26,
   "id": "ec9b3e97",
   "metadata": {},
   "outputs": [
    {
     "name": "stdout",
     "output_type": "stream",
     "text": [
      "{(0, 1): {'a1': 1, 'a2': 2}, (1, 1): {'a': 2, 'b': 4}}\n"
     ]
    },
    {
     "ename": "AttributeError",
     "evalue": "'int' object has no attribute 'update'",
     "output_type": "error",
     "traceback": [
      "\u001b[0;31m---------------------------------------------------------------------------\u001b[0m",
      "\u001b[0;31mAttributeError\u001b[0m                            Traceback (most recent call last)",
      "\u001b[0;32m/tmp/ipykernel_24877/3128875141.py\u001b[0m in \u001b[0;36m<module>\u001b[0;34m\u001b[0m\n\u001b[1;32m     14\u001b[0m \u001b[0;31m# print(d)\u001b[0m\u001b[0;34m\u001b[0m\u001b[0;34m\u001b[0m\u001b[0;34m\u001b[0m\u001b[0m\n\u001b[1;32m     15\u001b[0m \u001b[0md\u001b[0m\u001b[0;34m.\u001b[0m\u001b[0mupdate\u001b[0m\u001b[0;34m(\u001b[0m\u001b[0;34m{\u001b[0m\u001b[0ms\u001b[0m\u001b[0;34m:\u001b[0m\u001b[0;36m0\u001b[0m\u001b[0;34m}\u001b[0m\u001b[0;34m)\u001b[0m\u001b[0;34m\u001b[0m\u001b[0;34m\u001b[0m\u001b[0m\n\u001b[0;32m---> 16\u001b[0;31m \u001b[0md\u001b[0m\u001b[0;34m[\u001b[0m\u001b[0ms\u001b[0m\u001b[0;34m]\u001b[0m\u001b[0;34m.\u001b[0m\u001b[0mupdate\u001b[0m\u001b[0;34m(\u001b[0m\u001b[0;34m{\u001b[0m\u001b[0;34m'f'\u001b[0m\u001b[0;34m:\u001b[0m\u001b[0;36m20\u001b[0m\u001b[0;34m}\u001b[0m\u001b[0;34m)\u001b[0m\u001b[0;34m\u001b[0m\u001b[0;34m\u001b[0m\u001b[0m\n\u001b[0m\u001b[1;32m     17\u001b[0m \u001b[0md\u001b[0m\u001b[0;34m\u001b[0m\u001b[0;34m\u001b[0m\u001b[0m\n",
      "\u001b[0;31mAttributeError\u001b[0m: 'int' object has no attribute 'update'"
     ]
    }
   ],
   "source": [
    "# if state and action not in Q add them and intilaize to zero\n",
    "d ={(0,1):{'a1':1,'a2':2}, (1,1):{'a':2,'b':4}}\n",
    "\n",
    "print(d)\n",
    "s = (0,0)\n",
    "# a = 'm'\n",
    "# if s not in d.keys():\n",
    "#     d.update({s:0.0})\n",
    "#     if a not in d[s].keys():\n",
    "#         d[s].update({a:0.0})\n",
    "# print(d)\n",
    "# d[(0,1)].keys()\n",
    "# d[(0,1)].update({'s':45})\n",
    "# print(d)\n",
    "d.update({s:0})\n",
    "d[s].update({'f':20})\n",
    "d"
   ]
  },
  {
   "cell_type": "code",
   "execution_count": 4,
   "id": "53169025",
   "metadata": {},
   "outputs": [
    {
     "data": {
      "text/plain": [
       "2"
      ]
     },
     "execution_count": 4,
     "metadata": {},
     "output_type": "execute_result"
    }
   ],
   "source": [
    "d ={(0,1):{'a1':1,'a2':2}, (1,1):{'a':2,'b':4}}\n",
    "\n",
    "# actions = ['j','k','p']\n",
    "\n",
    "# for a in actions:\n",
    "#     d[(0,1)].update({a:0.0})\n",
    "\n",
    "# print(d)\n",
    "len(d[(0,1)].keys())"
   ]
  },
  {
   "cell_type": "code",
   "execution_count": null,
   "id": "9bfd7b02",
   "metadata": {},
   "outputs": [],
   "source": []
  }
 ],
 "metadata": {
  "interpreter": {
   "hash": "916dbcbb3f70747c44a77c7bcd40155683ae19c65e1c03b4aa3499c5328201f1"
  },
  "kernelspec": {
   "display_name": "Python 3.8.10 64-bit",
   "language": "python",
   "name": "python3"
  },
  "language_info": {
   "codemirror_mode": {
    "name": "ipython",
    "version": 3
   },
   "file_extension": ".py",
   "mimetype": "text/x-python",
   "name": "python",
   "nbconvert_exporter": "python",
   "pygments_lexer": "ipython3",
   "version": "3.8.10"
  }
 },
 "nbformat": 4,
 "nbformat_minor": 5
}
